{
 "cells": [
  {
   "cell_type": "markdown",
   "metadata": {},
   "source": [
    "- 以降の、それぞれのセルにカーソルを合わせて、Shift + Enter キーを押すことで、そのセルのコードを実行することができます。\n",
    "\n",
    "- 基本的には、上のセルから順番にコードを実行していきます。"
   ]
  },
  {
   "cell_type": "markdown",
   "metadata": {},
   "source": [
    "# ライブラリの読み込み"
   ]
  },
  {
   "cell_type": "code",
   "execution_count": null,
   "metadata": {},
   "outputs": [],
   "source": [
    "from sklearn.datasets import load_iris\n",
    "from sklearn.model_selection import train_test_split\n",
    "from sklearn.linear_model import SGDClassifier\n",
    "from sklearn.metrics import accuracy_score\n",
    "from sklearn.tree import DecisionTreeClassifier, export_graphviz\n",
    "from IPython.display import Image\n",
    "from sklearn.externals.six import StringIO\n",
    "import pydotplus"
   ]
  },
  {
   "cell_type": "markdown",
   "metadata": {},
   "source": [
    "# データを読み込む"
   ]
  },
  {
   "cell_type": "code",
   "execution_count": null,
   "metadata": {},
   "outputs": [],
   "source": [
    "# scikit-learn 付属の \"Iris\" サンプルデータを読み込む\n",
    "# Iris: “setosa”, “versicolor”, “virginica” という 3 種類の品種のアヤメのがく片 (Sepal)、花弁 (Petal) の幅および長さを計測したデータ\n",
    "iris = load_iris()\n",
    "\n",
    "# 説明変数のデータ\n",
    "#   カラム構成：\n",
    "#     sepal length (cm)  がく片の長さ\n",
    "#     sepal width (cm)  がく片の幅\n",
    "#     petal length (cm)  花弁の長さ\n",
    "#     petal width (cm)  花弁の幅\n",
    "X = iris.data\n",
    "# 目的変数のデータ（正解データ）\n",
    "#  ラベル種別：\n",
    "#    0: \"setosa\" 種、1: \"versicolor\" 種、2: \"virginica\" 種\n",
    "y = iris.target\n",
    "\n",
    "# データを学習用、検証用に分ける（全体の5割を検証用とする）\n",
    "test_size = 0.5\n",
    "X_train, X_test, y_train, y_test = train_test_split(X, y, test_size=test_size, random_state=1234)\n",
    "\n",
    "# 学習用の説明変数データ\n",
    "print(\"X_train: \")\n",
    "print(X_train)\n",
    "# 学習用の目的変数データ（正解データ）\n",
    "print(\"y_train: \")\n",
    "print(y_train)\n",
    "# 検証用の説明変数データ\n",
    "print(\"X_test: \")\n",
    "print(X_test)\n",
    "# 検証用の目的変数データ（正解データ）\n",
    "print(\"y_test: \")\n",
    "print(y_test)"
   ]
  },
  {
   "cell_type": "markdown",
   "metadata": {},
   "source": [
    "# ロジスティック回帰で分類問題を解く"
   ]
  },
  {
   "cell_type": "code",
   "execution_count": null,
   "metadata": {},
   "outputs": [],
   "source": [
    "# SGDClassifier を用いてロジスティック回帰モデルを実装\n",
    "\n",
    "max_iter = 10 # 最大のエポック数（学習させる回数）\n",
    "\n",
    "# \" loss='log' \" : ロジスティック回帰モデルを利用する、という設定値\n",
    "# \" penalty='none' \":  正則化の設定（過学習を抑えるための設定）。ここでは正則化無しを指定（ほかには \"l1\"、\"l2\" などを指定可能）\n",
    "logistic_regression = SGDClassifier(loss='log', penalty='none', max_iter=max_iter, random_state=1234)\n",
    "# 学習を実行\n",
    "logistic_regression.fit(X_train, y_train)\n",
    "\n",
    "# 学習の結果、導出された重みを取得して表示\n",
    "w0 = logistic_regression.intercept_[0]\n",
    "w1 = logistic_regression.coef_[0, 0]\n",
    "w2 = logistic_regression.coef_[0, 1]\n",
    "w3 = logistic_regression.coef_[0, 2]\n",
    "w4 = logistic_regression.coef_[0, 3]\n",
    "print('w0 = {:.3f}, w1 = {:.3f}, w2 = {:.3f}, w3 = {:.3f}, w4 = {:.3f}'.format(w0, w1, w2, w3, w4))\n",
    "\n",
    "# 学習用データを元にラベルを予測\n",
    "y_train_predicted = logistic_regression.predict(X_train)\n",
    "# 検証用データを元にラベルを予測\n",
    "y_test_predicted = logistic_regression.predict(X_test)\n",
    "\n",
    "# Accuracy（正答率）を表示（学習用データの場合）\n",
    "print('Accuracy（X_train） = {:.3f}%'.format(100 * accuracy_score(y_train, y_train_predicted)))\n",
    "# Accuracy（正答率）を表示（検証用データの場合）\n",
    "print('Accuracy（X_test） = {:.3f}%'.format(100 * accuracy_score(y_test, y_test_predicted)))"
   ]
  },
  {
   "cell_type": "markdown",
   "metadata": {},
   "source": [
    "# 決定木で分類問題を解く"
   ]
  },
  {
   "cell_type": "code",
   "execution_count": null,
   "metadata": {},
   "outputs": [],
   "source": [
    "# DecisionTreeClassifier を用いて決定木モデルを実装\n",
    "\n",
    "criterion = 'gini' # 評価指標。\"gini\": ジニ係数。\"entropy\": エントロピー\n",
    "max_depth = 4 # 木の枝分かれの深さの最大値。None を指定すると無制限になるが、過学習となる可能性も。\n",
    "min_samples_split = 8 # 枝を分割するために必要な最小データサイズ。過学習の傾向がある場合はこの値を大きくする\n",
    "min_samples_leaf = 4 # ひとつの枝の末端（＝葉）に、最低限格納されていなければならないデータ数。。過学習の傾向がある場合はこの値を大きくする\n",
    "\n",
    "decision_tree = DecisionTreeClassifier(criterion=criterion, \n",
    "                                       max_depth=max_depth, \n",
    "                                       min_samples_split=min_samples_split, \n",
    "                                       min_samples_leaf=min_samples_leaf, \n",
    "                                       random_state=1234)\n",
    "# 学習を実行\n",
    "decision_tree = decision_tree.fit(X_train, y_train)\n",
    "\n",
    "# 決定木の構造を描画\n",
    "dot_data = StringIO() #dotファイル情報の格納先\n",
    "export_graphviz(decision_tree, \n",
    "                out_file=dot_data,  \n",
    "                feature_names=iris.feature_names,  \n",
    "                class_names=iris.target_names,  \n",
    "                filled=True, \n",
    "                rounded=True,  \n",
    "                special_characters=True) \n",
    "graph = pydotplus.graph_from_dot_data(dot_data.getvalue()) \n",
    "Image(graph.create_png())"
   ]
  },
  {
   "cell_type": "code",
   "execution_count": null,
   "metadata": {},
   "outputs": [],
   "source": [
    "# Accuracy（正答率）を表示（学習用データの場合）\n",
    "print('Accuracy（X_train） = {:.3f}%'.format(100 * decision_tree.score(X_train, y_train)))\n",
    "# Accuracy（正答率）を表示（検証用データの場合）\n",
    "print('Accuracy（X_test） = {:.3f}%'.format(100 * decision_tree.score(X_test, y_test)))"
   ]
  },
  {
   "cell_type": "markdown",
   "metadata": {},
   "source": [
    "# 考察\n",
    "\n",
    "- モデルによって、Accuracy（正答率）にどのような違いが見られたでしょうか。\n",
    "\n",
    "- ロジスティック回帰モデルのハイパーパラメータ（ max_iter ）の値を変更すると、Accuracy がどのように変化するでしょうか。\n",
    "\n",
    "- 決定木モデルのハイパーパラメータ（ criterion、max_depth、min_samples_split、min_samples_leaf ）の値を変更すると、Accuracy がどのように変化するでしょうか。また、決定木の構造は、どのように変化するでしょうか。\n",
    "\n",
    "- 検証用データ（ X_train ）のほうの Accuracy が最大となるように、これらのハイパーパラメータを調整してみましょう。"
   ]
  },
  {
   "cell_type": "code",
   "execution_count": null,
   "metadata": {},
   "outputs": [],
   "source": []
  }
 ],
 "metadata": {
  "kernelspec": {
   "display_name": "Python 3",
   "language": "python",
   "name": "python3"
  },
  "language_info": {
   "codemirror_mode": {
    "name": "ipython",
    "version": 3
   },
   "file_extension": ".py",
   "mimetype": "text/x-python",
   "name": "python",
   "nbconvert_exporter": "python",
   "pygments_lexer": "ipython3",
   "version": "3.6.4"
  }
 },
 "nbformat": 4,
 "nbformat_minor": 2
}
